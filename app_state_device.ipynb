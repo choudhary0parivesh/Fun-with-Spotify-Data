{
 "cells": [
  {
   "cell_type": "code",
   "execution_count": 15,
   "metadata": {},
   "outputs": [],
   "source": [
    "import json\n",
    "\n",
    "f0 = open('C:/Users/Parivesh/Downloads/my_spotify_data (1) - Copy/MyData/AppFocusState.json',encoding=\"utf8\")\n",
    "data0 = json.load(f0)\n",
    "f0.close()"
   ]
  },
  {
   "cell_type": "code",
   "execution_count": 16,
   "metadata": {},
   "outputs": [
    {
     "name": "stdout",
     "output_type": "stream",
     "text": [
      "2243\n"
     ]
    }
   ],
   "source": [
    "print(len(data0))"
   ]
  },
  {
   "cell_type": "code",
   "execution_count": 19,
   "metadata": {},
   "outputs": [
    {
     "name": "stdout",
     "output_type": "stream",
     "text": [
      "45\n"
     ]
    }
   ],
   "source": [
    "fr=0 \n",
    "bcg=0\n",
    "sus=0\n",
    "fr1=0\n",
    "bcg1=0\n",
    "sus1=0\n",
    "\n",
    "for i in range(len(data0)):\n",
    "    if data0[i][\"context_device_model\"] == \"ASUS_X00TD\":\n",
    "        if data0[i][\"message_state\"] == \"foreground\":\n",
    "            fr = fr +1\n",
    "        if data0[i][\"message_state\"] == \"background-playing\":\n",
    "            bcg = bcg +1\n",
    "        if data0[i][\"message_state\"] == \"suspended\":\n",
    "            sus = sus +1\n",
    "k=0\n",
    "\n",
    "for k in range(len(data0)):\n",
    "    if data0[k][\"context_device_model\"] == \"Lenovo TB-X306F\":\n",
    "        if data0[k][\"message_state\"] == \"foreground\":\n",
    "            fr1 = fr1 +1\n",
    "        if data0[k][\"message_state\"] == \"background-playing\":\n",
    "            bcg1 = bcg1 +1\n",
    "        if data0[k][\"message_state\"] == \"suspended\":\n",
    "            sus1 = sus1 +1\n",
    "\n",
    "\n",
    "print(fr1)"
   ]
  },
  {
   "cell_type": "code",
   "execution_count": 29,
   "metadata": {},
   "outputs": [
    {
     "data": {
      "image/png": "[encoded data removed]",
      "text/plain": [
       "<Figure size 432x288 with 1 Axes>"
      ]
     },
     "metadata": {
      "needs_background": "light"
     },
     "output_type": "display_data"
    }
   ],
   "source": [
    "import matplotlib.pyplot as plt\n",
    "  \n",
    "# create data\n",
    "x = ['Phone','Tablet']\n",
    "y1 = [(fr/len(data0))*100, fr1/(len(data0))*100]\n",
    "y2 = [(bcg/len(data0))*100, bcg1/(len(data0))*100]\n",
    "y3 = [(sus/len(data0))*100, sus1/(len(data0))*100]\n",
    "  \n",
    "# plot bars in stack manner\n",
    "plt.bar(x, y1, color='r')\n",
    "plt.bar(x, y2, bottom=y1, color='b')\n",
    "plt.bar(x, y3, bottom=y2, color='g')\n",
    "\n",
    "plt.show()"
   ]
  },
  {
   "cell_type": "code",
   "execution_count": null,
   "metadata": {},
   "outputs": [],
   "source": []
  }
 ],
 "metadata": {
  "kernelspec": {
   "display_name": "Python 3.9.12 ('base')",
   "language": "python",
   "name": "python3"
  },
  "language_info": {
   "codemirror_mode": {
    "name": "ipython",
    "version": 3
   },
   "file_extension": ".py",
   "mimetype": "text/x-python",
   "name": "python",
   "nbconvert_exporter": "python",
   "pygments_lexer": "ipython3",
   "version": "3.9.12"
  },
  "orig_nbformat": 4,
  "vscode": {
   "interpreter": {
    "hash": "47624b2bb3dc4c88571923476099f3ba28f698f5edc93b8ba13c075c510daf2f"
   }
  }
 },
 "nbformat": 4,
 "nbformat_minor": 2
}
