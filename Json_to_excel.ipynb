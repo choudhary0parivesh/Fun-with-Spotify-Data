{
 "cells": [
  {
   "cell_type": "code",
   "execution_count": 8,
   "metadata": {},
   "outputs": [
    {
     "ename": "TypeError",
     "evalue": "Workbook.add_sheet() got an unexpected keyword argument 'header'",
     "output_type": "error",
     "traceback": [
      "\u001b[1;31m---------------------------------------------------------------------------\u001b[0m",
      "\u001b[1;31mTypeError\u001b[0m                                 Traceback (most recent call last)",
      "\u001b[1;32mc:\\Users\\Parivesh\\Desktop\\Fun-with-Spotify-Data\\Json_to_excel.ipynb Cell 1'\u001b[0m in \u001b[0;36m<cell line: 23>\u001b[1;34m()\u001b[0m\n\u001b[0;32m     <a href='vscode-notebook-cell:/c%3A/Users/Parivesh/Desktop/Fun-with-Spotify-Data/Json_to_excel.ipynb#ch0000000?line=17'>18</a>\u001b[0m wb \u001b[39m=\u001b[39m Workbook()\n\u001b[0;32m     <a href='vscode-notebook-cell:/c%3A/Users/Parivesh/Desktop/Fun-with-Spotify-Data/Json_to_excel.ipynb#ch0000000?line=18'>19</a>\u001b[0m \u001b[39m#  \u001b[39;00m\n\u001b[0;32m     <a href='vscode-notebook-cell:/c%3A/Users/Parivesh/Desktop/Fun-with-Spotify-Data/Json_to_excel.ipynb#ch0000000?line=19'>20</a>\u001b[0m \u001b[39m## add_sheet is used to create sheet.\u001b[39;00m\n\u001b[0;32m     <a href='vscode-notebook-cell:/c%3A/Users/Parivesh/Desktop/Fun-with-Spotify-Data/Json_to_excel.ipynb#ch0000000?line=20'>21</a>\u001b[0m \n\u001b[0;32m     <a href='vscode-notebook-cell:/c%3A/Users/Parivesh/Desktop/Fun-with-Spotify-Data/Json_to_excel.ipynb#ch0000000?line=21'>22</a>\u001b[0m \u001b[39m## peasant work starts from here 'me don't know how to code'\u001b[39;00m\n\u001b[1;32m---> <a href='vscode-notebook-cell:/c%3A/Users/Parivesh/Desktop/Fun-with-Spotify-Data/Json_to_excel.ipynb#ch0000000?line=22'>23</a>\u001b[0m sheet1 \u001b[39m=\u001b[39m wb\u001b[39m.\u001b[39;49madd_sheet(\u001b[39m'\u001b[39;49m\u001b[39mSheet 1\u001b[39;49m\u001b[39m'\u001b[39;49m,header\u001b[39m=\u001b[39;49m\u001b[39mNone\u001b[39;49;00m, names\u001b[39m=\u001b[39;49m[\u001b[39m\"\u001b[39;49m\u001b[39mAs\u001b[39;49m\u001b[39m\"\u001b[39;49m,\u001b[39m\"\u001b[39;49m\u001b[39mBs\u001b[39;49m\u001b[39m\"\u001b[39;49m,\u001b[39m\"\u001b[39;49m\u001b[39mCs\u001b[39;49m\u001b[39m\"\u001b[39;49m])\n\u001b[0;32m     <a href='vscode-notebook-cell:/c%3A/Users/Parivesh/Desktop/Fun-with-Spotify-Data/Json_to_excel.ipynb#ch0000000?line=23'>24</a>\u001b[0m sheet1\u001b[39m.\u001b[39mwrite(\u001b[39m0\u001b[39m,\u001b[39m0\u001b[39m, \u001b[39m'\u001b[39m\u001b[39mendTime\u001b[39m\u001b[39m'\u001b[39m)\n\u001b[0;32m     <a href='vscode-notebook-cell:/c%3A/Users/Parivesh/Desktop/Fun-with-Spotify-Data/Json_to_excel.ipynb#ch0000000?line=24'>25</a>\u001b[0m sheet1\u001b[39m.\u001b[39mwrite(\u001b[39m0\u001b[39m,\u001b[39m1\u001b[39m, \u001b[39m'\u001b[39m\u001b[39martistName\u001b[39m\u001b[39m'\u001b[39m)\n",
      "\u001b[1;31mTypeError\u001b[0m: Workbook.add_sheet() got an unexpected keyword argument 'header'"
     ]
    }
   ],
   "source": [
    "import json\n",
    "import xlwt\n",
    "from xlwt import Workbook    \n",
    "\n",
    "  \n",
    "# Opening JSON file\n",
    "f0 = open('C:/Users/Parivesh/Downloads/my_spotify_data/MyData/StreamingHistory0.json',encoding=\"utf8\")  ### change path only for Streaming History File\n",
    "f1 = open('C:/Users/Parivesh/Downloads/my_spotify_data/MyData/StreamingHistory1.json',encoding=\"utf8\")\n",
    "f2 = open('C:/Users/Parivesh/Downloads/my_spotify_data/MyData/StreamingHistory2.json',encoding=\"utf8\")\n",
    "f3 = open('C:/Users/Parivesh/Downloads/my_spotify_data/MyData/StreamingHistory3.json',encoding=\"utf8\")\n",
    "  \n",
    "# returns JSON object as\n",
    "\n",
    "\n",
    "data0,data1,data2,data3 = json.load(f0),json.load(f1),json.load(f2),json.load(f3)\n",
    "f0.close(),f1.close(),f2.close(),f3.close()\n",
    "\n",
    "wb = Workbook()\n",
    "#  \n",
    "## add_sheet is used to create sheet.\n",
    "\n",
    "## peasant work starts from here 'me don't know how to code'\n",
    "sheet1 = wb.add_sheet('Sheet 1',header=None, names=[\"As\",\"Bs\",\"Cs\"])\n",
    "sheet1.write(0,0, 'endTime')\n",
    "sheet1.write(0,1, 'artistName')\n",
    "sheet1.write(0,2, 'trackName')\n",
    "sheet1.write(0,3, 'msPlayed')\n",
    "for i in range(len(data0)): \n",
    "    #print(data0[i][\"endTime\"])\n",
    "    sheet1.write(i+1,0, data0[i][\"endTime\"])\n",
    "    sheet1.write(i+1,1, data0[i][\"artistName\"])\n",
    "    sheet1.write(i+1,2, data0[i][\"trackName\"])\n",
    "    sheet1.write(i+1,3, data0[i][\"msPlayed\"])\n",
    "\n",
    "j=0\n",
    "\n",
    "for i in range(len(data0),len(data0)+len(data1)): \n",
    "    #print(data0[i][\"endTime\"])\n",
    "    sheet1.write(i+1,0, data1[j][\"endTime\"])\n",
    "    sheet1.write(i+1,1, data1[j][\"artistName\"])\n",
    "    sheet1.write(i+1,2, data1[j][\"trackName\"])\n",
    "    sheet1.write(i+1,3, data1[j][\"msPlayed\"])\n",
    "    j=j+1\n",
    "\n",
    "j=0\n",
    "\n",
    "for i in range(len(data0)+len(data1),len(data0)+len(data1)+len(data2)): \n",
    "    #print(data0[i][\"endTime\"])\n",
    "    sheet1.write(i+1,0, data2[j][\"endTime\"])\n",
    "    sheet1.write(i+1,1, data2[j][\"artistName\"])\n",
    "    sheet1.write(i+1,2, data2[j][\"trackName\"])\n",
    "    sheet1.write(i+1,3, data2[j][\"msPlayed\"])\n",
    "    j=j+1\n",
    "\n",
    "j=0\n",
    "\n",
    "for i in range(len(data0)+len(data1)+len(data2),len(data0)+len(data1)+len(data2)+len(data3)): \n",
    "    #print(data0[i][\"endTime\"])\n",
    "    sheet1.write(i+1,0, data3[j][\"endTime\"])\n",
    "    sheet1.write(i+1,1, data3[j][\"artistName\"])\n",
    "    sheet1.write(i+1,2, data3[j][\"trackName\"])\n",
    "    sheet1.write(i+1,3, data3[j][\"msPlayed\"])\n",
    "    j=j+1\n",
    "\n",
    "#print(i)\n",
    "#print(len(data))\n",
    "wb.save('C:/Users/Parivesh/Downloads/my_spotify_data/MyData/StreamingHistory.xls')  ### save file path\n"
   ]
  },
  {
   "cell_type": "code",
   "execution_count": null,
   "metadata": {},
   "outputs": [],
   "source": []
  }
 ],
 "metadata": {
  "kernelspec": {
   "display_name": "Python 3.10.5 64-bit",
   "language": "python",
   "name": "python3"
  },
  "language_info": {
   "codemirror_mode": {
    "name": "ipython",
    "version": 3
   },
   "file_extension": ".py",
   "mimetype": "text/x-python",
   "name": "python",
   "nbconvert_exporter": "python",
   "pygments_lexer": "ipython3",
   "version": "3.10.5"
  },
  "orig_nbformat": 4,
  "vscode": {
   "interpreter": {
    "hash": "667be66cc184e65d99324267fcda0d5064c4f0fe724d76f0b91cfc53c816278d"
   }
  }
 },
 "nbformat": 4,
 "nbformat_minor": 2
}
