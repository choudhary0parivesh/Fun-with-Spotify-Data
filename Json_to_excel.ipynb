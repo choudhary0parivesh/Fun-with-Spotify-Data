{
 "cells": [
  {
   "cell_type": "code",
   "execution_count": null,
   "metadata": {},
   "outputs": [],
   "source": [
    "import json\n",
    "import xlwt\n",
    "from xlwt import Workbook    \n",
    "\n",
    "  \n",
    "# Opening JSON file\n",
    "f = open('StreamingHistory3.json',encoding=\"utf8\")  ### change path only for Streaming History File\n",
    "  \n",
    "# returns JSON object as \n",
    "\n",
    "data = json.load(f)\n",
    "f.close()\n",
    "wb = Workbook()\n",
    "  \n",
    "# add_sheet is used to create sheet.\n",
    "sheet1 = wb.add_sheet('Sheet 1')\n",
    "sheet1.write(0,0, 'endTime')\n",
    "sheet1.write(0,1, 'artistName')\n",
    "sheet1.write(0,2, 'trackName')\n",
    "sheet1.write(0,3, 'msPlayed')\n",
    "for i in range(len(data)): \n",
    "    print(data[i][\"endTime\"])\n",
    "    sheet1.write(i+1,0, data[i][\"endTime\"])\n",
    "    sheet1.write(i+1,1, data[i][\"artistName\"])\n",
    "    sheet1.write(i+1,2, data[i][\"trackName\"])\n",
    "    sheet1.write(i+1,3, data[i][\"msPlayed\"])\n",
    "\n",
    "\n",
    "print(len(data))\n",
    "wb.save('StreamingHistory3.xls')  ### save file path"
   ]
  },
  {
   "cell_type": "code",
   "execution_count": null,
   "metadata": {},
   "outputs": [],
   "source": []
  }
 ],
 "metadata": {
  "kernelspec": {
   "display_name": "Python 3.10.5 64-bit",
   "language": "python",
   "name": "python3"
  },
  "language_info": {
   "codemirror_mode": {
    "name": "ipython",
    "version": 3
   },
   "file_extension": ".py",
   "mimetype": "text/x-python",
   "name": "python",
   "nbconvert_exporter": "python",
   "pygments_lexer": "ipython3",
   "version": "3.10.5"
  },
  "orig_nbformat": 4,
  "vscode": {
   "interpreter": {
    "hash": "667be66cc184e65d99324267fcda0d5064c4f0fe724d76f0b91cfc53c816278d"
   }
  }
 },
 "nbformat": 4,
 "nbformat_minor": 2
}
