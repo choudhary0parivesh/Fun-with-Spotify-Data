{
 "cells": [
  {
   "cell_type": "code",
   "execution_count": 1,
   "metadata": {},
   "outputs": [],
   "source": [
    "import json\n",
    "\n",
    "f0 = open('C:/Users/Parivesh/Downloads/my_spotify_data (1) - Copy/MyData/ApAuthenticationSuccess_Hourly.json',encoding=\"utf8\")\n",
    "data0 = json.load(f0)\n",
    "f0.close()"
   ]
  },
  {
   "cell_type": "code",
   "execution_count": 2,
   "metadata": {},
   "outputs": [
    {
     "name": "stdout",
     "output_type": "stream",
     "text": [
      "2163\n"
     ]
    }
   ],
   "source": [
    "print(len(data0))"
   ]
  },
  {
   "cell_type": "code",
   "execution_count": null,
   "metadata": {},
   "outputs": [],
   "source": [
    "t=0\n",
    "f=0\n",
    "w=0\n",
    "for i in range(len(data0)):\n",
    "    if data0[i][\"message_system_info\"] == \"Android OS 9 API 28 (asus, ASUS_X00TD)\":\n",
    "        t =t + 1\n",
    "    if data0[i][\"message_system_info\"] == \"Windows 10 (10.0.22621; x64)\":\n",
    "        f =f + 1\n",
    "    if data0[i][\"message_system_info\"] == \"Android-tablet OS 10 API 29 (LENOVO, Lenovo TB-X306F)\":\n",
    "        w =w + 1\n"
   ]
  },
  {
   "cell_type": "code",
   "execution_count": null,
   "metadata": {},
   "outputs": [],
   "source": [
    "import matplotlib.pyplot as plt\n",
    "fig = plt.figure()\n",
    "ax = fig.add_axes([0,0,1,1])\n",
    "shuffle = ['Phone', 'Tablet','Desktop']\n",
    "perc = [(t/(t+f+w))*100,(w/(t+f+w))*100,(f/(t+f+w))*100]\n",
    "ax.bar(shuffle,perc,color = 'r', width = 0.25)\n",
    "ax.set_title('Spotify Device used')\n",
    "ax.set_ylabel('Percentage')\n",
    "ax.set_xlabel('Device')\n",
    "plt.show()"
   ]
  },
  {
   "cell_type": "code",
   "execution_count": null,
   "metadata": {},
   "outputs": [],
   "source": []
  }
 ],
 "metadata": {
  "kernelspec": {
   "display_name": "Python 3.9.12 ('base')",
   "language": "python",
   "name": "python3"
  },
  "language_info": {
   "codemirror_mode": {
    "name": "ipython",
    "version": 3
   },
   "file_extension": ".py",
   "mimetype": "text/x-python",
   "name": "python",
   "nbconvert_exporter": "python",
   "pygments_lexer": "ipython3",
   "version": "3.9.12"
  },
  "orig_nbformat": 4,
  "vscode": {
   "interpreter": {
    "hash": "47624b2bb3dc4c88571923476099f3ba28f698f5edc93b8ba13c075c510daf2f"
   }
  }
 },
 "nbformat": 4,
 "nbformat_minor": 2
}
