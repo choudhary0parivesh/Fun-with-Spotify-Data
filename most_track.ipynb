{
 "cells": [
  {
   "cell_type": "code",
   "execution_count": 19,
   "metadata": {},
   "outputs": [],
   "source": [
    "import json\n",
    "import collections\n",
    "\n",
    "files=['C:/Users/Parivesh/Downloads/my_spotify_data/MyData/StreamingHistory0.json','C:/Users/Parivesh/Downloads/my_spotify_data/MyData/StreamingHistory1.json','C:/Users/Parivesh/Downloads/my_spotify_data/MyData/StreamingHistory2.json','C:/Users/Parivesh/Downloads/my_spotify_data/MyData/StreamingHistory3.json']\n",
    "\n",
    "def merge_JsonFiles(filename):\n",
    "    result = list()\n",
    "    for f1 in filename:\n",
    "        with open(f1, 'r') as infile:\n",
    "            result.extend(json.load(infile))\n",
    "\n",
    "    with open('C:/Users/Parivesh/Downloads/my_spotify_data/MyData/all_streaming_merged.json', 'w') as output_file:\n",
    "        json.dump(result, output_file)\n",
    "\n",
    "merge_JsonFiles(files)"
   ]
  },
  {
   "cell_type": "code",
   "execution_count": 20,
   "metadata": {},
   "outputs": [],
   "source": [
    "f0 = open('C:/Users/Parivesh/Downloads/my_spotify_data/MyData/all_streaming_merged.json',encoding=\"utf8\")\n",
    "data0 = json.load(f0)\n",
    "f0.close()"
   ]
  },
  {
   "cell_type": "code",
   "execution_count": 21,
   "metadata": {},
   "outputs": [
    {
     "name": "stdout",
     "output_type": "stream",
     "text": [
      "31215\n"
     ]
    }
   ],
   "source": [
    "print(len(data0))"
   ]
  },
  {
   "cell_type": "code",
   "execution_count": 22,
   "metadata": {},
   "outputs": [],
   "source": [
    "endtime=[]\n",
    "artistName = []\n",
    "trackName = []\n",
    "msPlayed = []\n",
    "for i in range(len((data0))):\n",
    "    time = data0[i][\"endTime\"]\n",
    "    artist = data0[i][\"artistName\"]\n",
    "    name = data0[i][\"trackName\"]\n",
    "    ms = data0[i][\"msPlayed\"]\n",
    "    endtime.append(time)\n",
    "    artistName.append(artist)\n",
    "    trackName.append(name)\n",
    "    msPlayed.append(ms)\n",
    "\n"
   ]
  },
  {
   "cell_type": "code",
   "execution_count": null,
   "metadata": {},
   "outputs": [],
   "source": [
    "t=0\n",
    "max_track = max(trackName,key=trackName.count)\n",
    "print(\"most played track:\",max_track,\"by\",artistName[trackName.index(str(max_track))])\n",
    "counter=collections.Counter(trackName)\n",
    "print(\"number of times played:\",max(counter.values()))\n",
    "for i in range(len((data0))):\n",
    "    if trackName[i] == max_track:\n",
    "        t = t+msPlayed[i]\n",
    "         \n",
    "print(\"total time played:\",t/3600000,\"hours\")"
   ]
  },
  {
   "cell_type": "code",
   "execution_count": null,
   "metadata": {},
   "outputs": [],
   "source": [
    "t=0\n",
    "max_artist = max(artistName,key=artistName.count)\n",
    "print(\"most played artist:\",max_artist)\n",
    "counter1=collections.Counter(artistName)\n",
    "print(\"number of times played:\",max(counter1.values()))\n",
    "for i in range(len((data0))):\n",
    "    if artistName[i] == max_artist:\n",
    "        t = t+msPlayed[i]\n",
    "         \n",
    "print(\"total time played:\",t/3600000,\"hours\")"
   ]
  },
  {
   "cell_type": "code",
   "execution_count": null,
   "metadata": {},
   "outputs": [],
   "source": [
    "import pandas as pd\n",
    "import matplotlib.pyplot as plt\n",
    "import numpy as np\n",
    "\n",
    "\n",
    "k = 20\n",
    "name1 = []\n",
    "number = []\n",
    "for i in range(k): \n",
    "    artist_name=name1.append(counter1.most_common(k)[i][0])\n",
    "    artist_number=number.append(counter1.most_common(k)[i][1])\n",
    "\n",
    "\n",
    "# Build a dataset\n",
    "df = pd.DataFrame(\n",
    "        {\n",
    "            'Name': name1,\n",
    "            'Value': number\n",
    "        })\n",
    "\n",
    "# Reorder the dataframe\n",
    "df = df.sort_values(by=['Value'])\n",
    "\n",
    "# initialize the figure\n",
    "plt.figure(figsize=(30,15))\n",
    "ax = plt.subplot(111, polar=True)\n",
    "plt.axis('off')\n",
    "\n",
    "# Constants = parameters controling the plot layout:\n",
    "upperLimit = 100\n",
    "lowerLimit = 30\n",
    "labelPadding = 4\n",
    "\n",
    "# Compute max and min in the dataset\n",
    "max = df['Value'].max()\n",
    "\n",
    "# Let's compute heights: they are a conversion of each item value in those new coordinates\n",
    "# In our example, 0 in the dataset will be converted to the lowerLimit (10)\n",
    "# The maximum will be converted to the upperLimit (100)\n",
    "slope = (max - lowerLimit) / max\n",
    "heights = slope * df.Value + lowerLimit\n",
    "\n",
    "# Compute the width of each bar. In total we have 2*Pi = 360°\n",
    "width = 2*np.pi / len(df.index)\n",
    "\n",
    "# Compute the angle each bar is centered on:\n",
    "indexes = list(range(1, len(df.index)+1))\n",
    "angles = [element * width for element in indexes]\n",
    "angles\n",
    "\n",
    "# Draw bars\n",
    "bars = ax.bar(\n",
    "    x=angles, \n",
    "    height=heights, \n",
    "    width=width, \n",
    "    bottom=lowerLimit,\n",
    "    linewidth=2, \n",
    "    edgecolor=\"white\",\n",
    "    color=\"#61a4b2\",\n",
    ")\n",
    "\n",
    "# Add labels\n",
    "for bar, angle, height, label in zip(bars,angles, heights, df[\"Name\"]):\n",
    "\n",
    "    # Labels are rotated. Rotation must be specified in degrees :(\n",
    "    rotation = np.rad2deg(angle)\n",
    "\n",
    "    # Flip some labels upside down\n",
    "    alignment = \"\"\n",
    "    if angle >= np.pi/2 and angle < 3*np.pi/2:\n",
    "        alignment = \"right\"\n",
    "        rotation = rotation + 180\n",
    "    else: \n",
    "        alignment = \"left\"\n",
    "\n",
    "    # Finally add the labels\n",
    "    ax.text(\n",
    "        x=angle, \n",
    "        y=lowerLimit + bar.get_height() + labelPadding, \n",
    "        s=label, \n",
    "        ha=alignment, \n",
    "        va='center', \n",
    "        rotation=rotation, \n",
    "        rotation_mode=\"anchor\") "
   ]
  },
  {
   "cell_type": "code",
   "execution_count": null,
   "metadata": {},
   "outputs": [],
   "source": [
    "print(name1)"
   ]
  },
  {
   "cell_type": "code",
   "execution_count": null,
   "metadata": {},
   "outputs": [],
   "source": [
    "print(number)"
   ]
  },
  {
   "cell_type": "code",
   "execution_count": null,
   "metadata": {},
   "outputs": [],
   "source": []
  }
 ],
 "metadata": {
  "kernelspec": {
   "display_name": "Python 3.9.12 ('base')",
   "language": "python",
   "name": "python3"
  },
  "language_info": {
   "codemirror_mode": {
    "name": "ipython",
    "version": 3
   },
   "file_extension": ".py",
   "mimetype": "text/x-python",
   "name": "python",
   "nbconvert_exporter": "python",
   "pygments_lexer": "ipython3",
   "version": "3.9.12"
  },
  "orig_nbformat": 4,
  "vscode": {
   "interpreter": {
    "hash": "47624b2bb3dc4c88571923476099f3ba28f698f5edc93b8ba13c075c510daf2f"
   }
  }
 },
 "nbformat": 4,
 "nbformat_minor": 2
}
