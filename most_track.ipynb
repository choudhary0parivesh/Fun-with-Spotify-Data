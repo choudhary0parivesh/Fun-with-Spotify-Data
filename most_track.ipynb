{
 "cells": [
  {
   "cell_type": "code",
   "execution_count": 19,
   "metadata": {},
   "outputs": [],
   "source": [
    "import json\n",
    "import collections\n",
    "\n",
    "files=['C:/Users/Parivesh/Downloads/my_spotify_data/MyData/StreamingHistory0.json','C:/Users/Parivesh/Downloads/my_spotify_data/MyData/StreamingHistory1.json','C:/Users/Parivesh/Downloads/my_spotify_data/MyData/StreamingHistory2.json','C:/Users/Parivesh/Downloads/my_spotify_data/MyData/StreamingHistory3.json']\n",
    "\n",
    "def merge_JsonFiles(filename):\n",
    "    result = list()\n",
    "    for f1 in filename:\n",
    "        with open(f1, 'r') as infile:\n",
    "            result.extend(json.load(infile))\n",
    "\n",
    "    with open('C:/Users/Parivesh/Downloads/my_spotify_data/MyData/all_streaming_merged.json', 'w') as output_file:\n",
    "        json.dump(result, output_file)\n",
    "\n",
    "merge_JsonFiles(files)"
   ]
  },
  {
   "cell_type": "code",
   "execution_count": 20,
   "metadata": {},
   "outputs": [],
   "source": [
    "f0 = open('C:/Users/Parivesh/Downloads/my_spotify_data/MyData/all_streaming_merged.json',encoding=\"utf8\")\n",
    "data0 = json.load(f0)\n",
    "f0.close()"
   ]
  },
  {
   "cell_type": "code",
   "execution_count": 21,
   "metadata": {},
   "outputs": [
    {
     "name": "stdout",
     "output_type": "stream",
     "text": [
      "31215\n"
     ]
    }
   ],
   "source": [
    "print(len(data0))"
   ]
  },
  {
   "cell_type": "code",
   "execution_count": 22,
   "metadata": {},
   "outputs": [],
   "source": [
    "endtime=[]\n",
    "artistName = []\n",
    "trackName = []\n",
    "msPlayed = []\n",
    "for i in range(len((data0))):\n",
    "    time = data0[i][\"endTime\"]\n",
    "    artist = data0[i][\"artistName\"]\n",
    "    name = data0[i][\"trackName\"]\n",
    "    ms = data0[i][\"msPlayed\"]\n",
    "    endtime.append(time)\n",
    "    artistName.append(artist)\n",
    "    trackName.append(name)\n",
    "    msPlayed.append(ms)\n",
    "\n"
   ]
  },
  {
   "cell_type": "code",
   "execution_count": 23,
   "metadata": {},
   "outputs": [
    {
     "name": "stdout",
     "output_type": "stream",
     "text": [
      "most played track: Chateau Lobby #4 (in C for Two Virgins) by Father John Misty\n",
      "number of times played: 186\n",
      "total time played: 8.492336388888889 hours\n"
     ]
    }
   ],
   "source": [
    "t=0\n",
    "max_track = max(trackName,key=trackName.count)\n",
    "print(\"most played track:\",max_track,\"by\",artistName[trackName.index(str(max_track))])\n",
    "counter=collections.Counter(trackName)\n",
    "print(\"number of times played:\",max(counter.values()))\n",
    "for i in range(len((data0))):\n",
    "    if trackName[i] == max_track:\n",
    "        t = t+msPlayed[i]\n",
    "         \n",
    "print(\"total time played:\",t/3600000,\"hours\")"
   ]
  },
  {
   "cell_type": "code",
   "execution_count": 24,
   "metadata": {},
   "outputs": [
    {
     "name": "stdout",
     "output_type": "stream",
     "text": [
      "most played artist: Of Monsters and Men\n",
      "number of times played: 1776\n",
      "total time played: 103.54714833333334 hours\n"
     ]
    }
   ],
   "source": [
    "t=0\n",
    "max_artist = max(artistName,key=artistName.count)\n",
    "print(\"most played artist:\",max_artist)\n",
    "counter1=collections.Counter(artistName)\n",
    "print(\"number of times played:\",max(counter1.values()))\n",
    "for i in range(len((data0))):\n",
    "    if artistName[i] == max_artist:\n",
    "        t = t+msPlayed[i]\n",
    "         \n",
    "print(\"total time played:\",t/3600000,\"hours\")"
   ]
  },
  {
   "cell_type": "code",
   "execution_count": null,
   "metadata": {},
   "outputs": [],
   "source": []
  }
 ],
 "metadata": {
  "kernelspec": {
   "display_name": "Python 3.9.12 ('base')",
   "language": "python",
   "name": "python3"
  },
  "language_info": {
   "codemirror_mode": {
    "name": "ipython",
    "version": 3
   },
   "file_extension": ".py",
   "mimetype": "text/x-python",
   "name": "python",
   "nbconvert_exporter": "python",
   "pygments_lexer": "ipython3",
   "version": "3.9.12"
  },
  "orig_nbformat": 4,
  "vscode": {
   "interpreter": {
    "hash": "47624b2bb3dc4c88571923476099f3ba28f698f5edc93b8ba13c075c510daf2f"
   }
  }
 },
 "nbformat": 4,
 "nbformat_minor": 2
}
