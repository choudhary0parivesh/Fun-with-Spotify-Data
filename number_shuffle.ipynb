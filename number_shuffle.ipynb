{
 "cells": [
  {
   "cell_type": "code",
   "execution_count": 1,
   "metadata": {},
   "outputs": [],
   "source": [
    "import json\n",
    "\n",
    "f0 = open('C:/Users/Parivesh/Downloads/my_spotify_data (1) - Copy/MyData/Ap_EndSong.json',encoding=\"utf8\")\n",
    "data0 = json.load(f0)\n",
    "f0.close()"
   ]
  },
  {
   "cell_type": "code",
   "execution_count": 2,
   "metadata": {},
   "outputs": [
    {
     "name": "stdout",
     "output_type": "stream",
     "text": [
      "14642\n"
     ]
    }
   ],
   "source": [
    "print(len(data0))"
   ]
  },
  {
   "cell_type": "code",
   "execution_count": 10,
   "metadata": {},
   "outputs": [
    {
     "name": "stdout",
     "output_type": "stream",
     "text": [
      "True 5153\n",
      "False 9489\n",
      "total 14642\n"
     ]
    }
   ],
   "source": [
    "t=0\n",
    "f=0\n",
    "for i in range(len(data0)):\n",
    "    if data0[i][\"message_shuffle\"] == True:\n",
    "        t =t + 1\n",
    "    elif data0[i][\"message_shuffle\"] == False:\n",
    "        f = f + 1\n",
    "print(\"True\",t)\n",
    "print(\"False\",f)\n",
    "print(\"total\",t+f)"
   ]
  },
  {
   "cell_type": "code",
   "execution_count": 18,
   "metadata": {},
   "outputs": [
    {
     "data": {
      "image/png": "[encoded data removed]",
      "text/plain": [
       "<Figure size 432x288 with 1 Axes>"
      ]
     },
     "metadata": {
      "needs_background": "light"
     },
     "output_type": "display_data"
    }
   ],
   "source": [
    "import matplotlib.pyplot as plt\n",
    "fig = plt.figure()\n",
    "ax = fig.add_axes([0,0,1,1])\n",
    "shuffle = ['Shuffle On', 'Shuffle Off']\n",
    "perc = [(t/(t+f))*100,(f/(t+f))*100]\n",
    "ax.bar(shuffle,perc,color = 'r', width = 0.25)\n",
    "ax.set_title('Spotify Shuffle Percentage')\n",
    "ax.set_ylabel('Percentage')\n",
    "ax.set_xlabel('Shuffle')\n",
    "plt.show()"
   ]
  }
 ],
 "metadata": {
  "kernelspec": {
   "display_name": "Python 3.9.12 ('base')",
   "language": "python",
   "name": "python3"
  },
  "language_info": {
   "codemirror_mode": {
    "name": "ipython",
    "version": 3
   },
   "file_extension": ".py",
   "mimetype": "text/x-python",
   "name": "python",
   "nbconvert_exporter": "python",
   "pygments_lexer": "ipython3",
   "version": "3.9.12"
  },
  "orig_nbformat": 4,
  "vscode": {
   "interpreter": {
    "hash": "47624b2bb3dc4c88571923476099f3ba28f698f5edc93b8ba13c075c510daf2f"
   }
  }
 },
 "nbformat": 4,
 "nbformat_minor": 2
}
